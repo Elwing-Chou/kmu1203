{
  "nbformat": 4,
  "nbformat_minor": 0,
  "metadata": {
    "colab": {
      "provenance": [],
      "authorship_tag": "ABX9TyOMQjIzvRPlIVXavWwPI3C6",
      "include_colab_link": true
    },
    "kernelspec": {
      "name": "python3",
      "display_name": "Python 3"
    },
    "language_info": {
      "name": "python"
    }
  },
  "cells": [
    {
      "cell_type": "markdown",
      "metadata": {
        "id": "view-in-github",
        "colab_type": "text"
      },
      "source": [
        "<a href=\"https://colab.research.google.com/github/Elwing-Chou/kmu1203/blob/main/2_pandas.ipynb\" target=\"_parent\"><img src=\"https://colab.research.google.com/assets/colab-badge.svg\" alt=\"Open In Colab\"/></a>"
      ]
    },
    {
      "cell_type": "code",
      "execution_count": null,
      "metadata": {
        "id": "9u9qva2Oroit"
      },
      "outputs": [],
      "source": [
        "import urllib.request as req\n",
        "url = \"https://github.com/Elwing-Chou/kmu1203/raw/main/danmu.txt\"\n",
        "req.urlretrieve(url, \"danmu.txt\")"
      ]
    },
    {
      "cell_type": "code",
      "source": [
        "# 型態: DataFrame(2D表格)  Series(1D 一列/一行)\n",
        "import pandas as pd\n",
        "df = pd.read_json(\"danmu.txt\", encoding=\"utf-8\")\n",
        "df"
      ],
      "metadata": {
        "id": "yqrOLQo5t9Yr"
      },
      "execution_count": null,
      "outputs": []
    }
  ]
}