{
  "nbformat": 4,
  "nbformat_minor": 0,
  "metadata": {
    "colab": {
      "provenance": [],
      "authorship_tag": "ABX9TyPVhe6GpZG69wK5viASoQwi",
      "include_colab_link": true
    },
    "kernelspec": {
      "name": "python3",
      "display_name": "Python 3"
    },
    "language_info": {
      "name": "python"
    }
  },
  "cells": [
    {
      "cell_type": "markdown",
      "metadata": {
        "id": "view-in-github",
        "colab_type": "text"
      },
      "source": [
        "<a href=\"https://colab.research.google.com/github/Elwing-Chou/kmu1203/blob/main/1_nlp.ipynb\" target=\"_parent\"><img src=\"https://colab.research.google.com/assets/colab-badge.svg\" alt=\"Open In Colab\"/></a>"
      ]
    },
    {
      "cell_type": "code",
      "execution_count": 2,
      "metadata": {
        "id": "W3XNUddoV3b5"
      },
      "outputs": [],
      "source": [
        "news = \"\"\"11月中，氣溫不足10度，海色湛藍，秋末的陽光把岩石和蘆葦的影子照得很深。\n",
        "\n",
        "日本東北宮城縣氣仙沼市唐桑半島的末端，宮城偶來「氣仙沼唐桑路線」的起點前，當地民間自主營運的觀光協會會長三上忠文，綻放笑容。72歲的臉龐不見疲態，雙眼炯炯有神。\n",
        "\n",
        "「以前在地人沒有健走的習慣，自從有了步道，大家開始愛上健走。我已經來幾十次了，」他說。\n",
        "\n",
        "總長10公里的氣仙沼唐桑路線，緊貼岩壁展開。遠方是壯麗的太平洋，近處是蔓延的野生樹石，視線一會兒高，一會兒低，奇偉瑰怪的巨岩和藏於凹灣的碧潭忽隱忽現，令人稱奇。\n",
        "\n",
        "偏鄉走出傷痛，重新連結世界\n",
        "誰也沒想到，昔日無人聞問的偏鄉村落，在2019年步道開通後，不但吸引日本其他地區的旅客造訪，連韓國、台灣都有人特地前來，不仰賴觀光巴士走馬看花，而用雙腳踏上居民從小到大生活的路徑。至今已吸引12000人次造訪，足足是唐桑町人口的2倍。\n",
        "\n",
        "「311大地震時，我家因為在另外一側，僥倖逃過一劫。可是唐桑半島附近20幾座小島，都被海嘯吞噬，上面還有村落呢，」三上忠文視線落在遠方，緩緩說道。當年海浪瞬間捲起的上百公斤巨石群，如今成為歷史印記，化身步道景點。\"\"\""
      ]
    },
    {
      "cell_type": "code",
      "source": [
        "!pip install jieba"
      ],
      "metadata": {
        "colab": {
          "base_uri": "https://localhost:8080/"
        },
        "id": "gZK3My3-Z-qQ",
        "outputId": "cde69f00-3ac0-416f-e35a-27a4919f2fa6"
      },
      "execution_count": 3,
      "outputs": [
        {
          "output_type": "stream",
          "name": "stdout",
          "text": [
            "Requirement already satisfied: jieba in /usr/local/lib/python3.10/dist-packages (0.42.1)\n"
          ]
        }
      ]
    },
    {
      "cell_type": "code",
      "source": [
        "import jieba.analyse\n",
        "jieba.analyse.extract_tags(news)"
      ],
      "metadata": {
        "colab": {
          "base_uri": "https://localhost:8080/"
        },
        "id": "6BskUkG-Z3Vy",
        "outputId": "1c64ed47-c548-4741-92ba-22aecb30908e"
      },
      "execution_count": 4,
      "outputs": [
        {
          "output_type": "stream",
          "name": "stderr",
          "text": [
            "Building prefix dict from the default dictionary ...\n",
            "DEBUG:jieba:Building prefix dict from the default dictionary ...\n",
            "Dumping model to file cache /tmp/jieba.cache\n",
            "DEBUG:jieba:Dumping model to file cache /tmp/jieba.cache\n",
            "Loading model cost 1.654 seconds.\n",
            "DEBUG:jieba:Loading model cost 1.654 seconds.\n",
            "Prefix dict has been built successfully.\n",
            "DEBUG:jieba:Prefix dict has been built successfully.\n"
          ]
        },
        {
          "output_type": "execute_result",
          "data": {
            "text/plain": [
              "['步道',\n",
              " '10',\n",
              " '唐桑半島',\n",
              " '氣仙沼',\n",
              " '唐桑路線',\n",
              " '觀光',\n",
              " '遠方',\n",
              " '一會兒',\n",
              " '偏鄉',\n",
              " '造訪',\n",
              " '三上',\n",
              " '村落',\n",
              " '百公斤',\n",
              " '吸引',\n",
              " '11',\n",
              " '氣溫',\n",
              " '海色湛',\n",
              " '陽光',\n",
              " '蘆葦',\n",
              " '東北宮']"
            ]
          },
          "metadata": {},
          "execution_count": 4
        }
      ]
    }
  ]
}