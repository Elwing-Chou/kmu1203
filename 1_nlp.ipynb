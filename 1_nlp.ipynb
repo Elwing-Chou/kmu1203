{
  "nbformat": 4,
  "nbformat_minor": 0,
  "metadata": {
    "colab": {
      "provenance": [],
      "authorship_tag": "ABX9TyOP/wUAM2cCUjs7oEZz00Xc",
      "include_colab_link": true
    },
    "kernelspec": {
      "name": "python3",
      "display_name": "Python 3"
    },
    "language_info": {
      "name": "python"
    }
  },
  "cells": [
    {
      "cell_type": "markdown",
      "metadata": {
        "id": "view-in-github",
        "colab_type": "text"
      },
      "source": [
        "<a href=\"https://colab.research.google.com/github/Elwing-Chou/kmu1203/blob/main/1_nlp.ipynb\" target=\"_parent\"><img src=\"https://colab.research.google.com/assets/colab-badge.svg\" alt=\"Open In Colab\"/></a>"
      ]
    },
    {
      "cell_type": "code",
      "execution_count": 2,
      "metadata": {
        "id": "W3XNUddoV3b5"
      },
      "outputs": [],
      "source": [
        "news = \"\"\"11月中，氣溫不足10度，海色湛藍，秋末的陽光把岩石和蘆葦的影子照得很深。\n",
        "\n",
        "日本東北宮城縣氣仙沼市唐桑半島的末端，宮城偶來「氣仙沼唐桑路線」的起點前，當地民間自主營運的觀光協會會長三上忠文，綻放笑容。72歲的臉龐不見疲態，雙眼炯炯有神。\n",
        "\n",
        "「以前在地人沒有健走的習慣，自從有了步道，大家開始愛上健走。我已經來幾十次了，」他說。\n",
        "\n",
        "總長10公里的氣仙沼唐桑路線，緊貼岩壁展開。遠方是壯麗的太平洋，近處是蔓延的野生樹石，視線一會兒高，一會兒低，奇偉瑰怪的巨岩和藏於凹灣的碧潭忽隱忽現，令人稱奇。\n",
        "\n",
        "偏鄉走出傷痛，重新連結世界\n",
        "誰也沒想到，昔日無人聞問的偏鄉村落，在2019年步道開通後，不但吸引日本其他地區的旅客造訪，連韓國、台灣都有人特地前來，不仰賴觀光巴士走馬看花，而用雙腳踏上居民從小到大生活的路徑。至今已吸引12000人次造訪，足足是唐桑町人口的2倍。\n",
        "\n",
        "「311大地震時，我家因為在另外一側，僥倖逃過一劫。可是唐桑半島附近20幾座小島，都被海嘯吞噬，上面還有村落呢，」三上忠文視線落在遠方，緩緩說道。當年海浪瞬間捲起的上百公斤巨石群，如今成為歷史印記，化身步道景點。\"\"\""
      ]
    },
    {
      "cell_type": "code",
      "source": [
        "!pip install jieba"
      ],
      "metadata": {
        "colab": {
          "base_uri": "https://localhost:8080/"
        },
        "id": "gZK3My3-Z-qQ",
        "outputId": "cde69f00-3ac0-416f-e35a-27a4919f2fa6"
      },
      "execution_count": 3,
      "outputs": [
        {
          "output_type": "stream",
          "name": "stdout",
          "text": [
            "Requirement already satisfied: jieba in /usr/local/lib/python3.10/dist-packages (0.42.1)\n"
          ]
        }
      ]
    },
    {
      "cell_type": "code",
      "source": [
        "import urllib.request as req\n",
        "url = \"https://github.com/fxsjy/jieba/raw/master/extra_dict/dict.txt.big\"\n",
        "req.urlretrieve(url, \"dict.big\")"
      ],
      "metadata": {
        "colab": {
          "base_uri": "https://localhost:8080/"
        },
        "id": "hP9MuxWliPpp",
        "outputId": "f922318b-f194-4f1d-85ba-f5926d94d3b6"
      },
      "execution_count": 8,
      "outputs": [
        {
          "output_type": "execute_result",
          "data": {
            "text/plain": [
              "('dict.big', <http.client.HTTPMessage at 0x7bdf0c3948e0>)"
            ]
          },
          "metadata": {},
          "execution_count": 8
        }
      ]
    },
    {
      "cell_type": "code",
      "source": [
        "import jieba\n",
        "jieba.set_dictionary(\"dict.big\")\n",
        "\" \".join(jieba.cut(news))"
      ],
      "metadata": {
        "colab": {
          "base_uri": "https://localhost:8080/",
          "height": 365
        },
        "id": "kQyprV6Rf-TR",
        "outputId": "0b432a85-5b09-4e4b-8104-28a9d2db33df"
      },
      "execution_count": 9,
      "outputs": [
        {
          "output_type": "stream",
          "name": "stderr",
          "text": [
            "Building prefix dict from /content/dict.big ...\n",
            "DEBUG:jieba:Building prefix dict from /content/dict.big ...\n",
            "Dumping model to file cache /tmp/jieba.u07306b11e64fa1786267fcd71f361dde.cache\n",
            "DEBUG:jieba:Dumping model to file cache /tmp/jieba.u07306b11e64fa1786267fcd71f361dde.cache\n",
            "Loading model cost 1.564 seconds.\n",
            "DEBUG:jieba:Loading model cost 1.564 seconds.\n",
            "Prefix dict has been built successfully.\n",
            "DEBUG:jieba:Prefix dict has been built successfully.\n"
          ]
        },
        {
          "output_type": "execute_result",
          "data": {
            "text/plain": [
              "'11 月 中 ， 氣溫 不足 10 度 ， 海色 湛藍 ， 秋末 的 陽光 把 岩石 和 蘆葦 的 影子 照得 很 深 。 \\n \\n 日本 東北 宮城縣 氣仙 沼市 唐桑 半島 的 末端 ， 宮城 偶來 「 氣仙沼 唐桑 路線 」 的 起點 前 ， 當地 民間 自主 營運 的 觀光 協會會長 三上 忠文 ， 綻放 笑容 。 72 歲 的 臉龐 不見 疲態 ， 雙眼 炯炯有神 。 \\n \\n 「 以前 在 地人 沒有 健走 的 習慣 ， 自從 有 了 步道 ， 大家 開始 愛上 健走 。 我 已經 來 幾十次 了 ， 」 他 說 。 \\n \\n 總長 10 公里 的 氣仙沼 唐桑 路線 ， 緊貼 岩壁 展開 。 遠方 是 壯麗 的 太平洋 ， 近處 是 蔓延 的 野生 樹石 ， 視線 一會兒 高 ， 一會兒 低 ， 奇偉 瑰 怪 的 巨岩 和 藏 於 凹灣 的 碧潭 忽隱忽現 ， 令人稱奇 。 \\n \\n 偏鄉 走出 傷痛 ， 重新 連結 世界 \\n 誰 也 沒想到 ， 昔日 無人 聞問 的 偏 鄉村 落 ， 在 2019 年 步道 開通 後 ， 不但 吸引 日本 其他 地區 的 旅客 造訪 ， 連 韓國 、 台灣 都 有人 特地 前來 ， 不 仰賴 觀光 巴士 走馬看花 ， 而用 雙腳 踏上 居民 從小到大 生活 的 路徑 。 至今 已 吸引 12000 人次 造訪 ， 足足 是 唐桑 町 人口 的 2 倍 。 \\n \\n 「 311 大 地震 時 ， 我家 因為 在 另外 一側 ， 僥倖 逃過一劫 。 可是 唐桑 半島 附近 20 幾座 小島 ， 都 被 海嘯 吞噬 ， 上面 還有 村落 呢 ， 」 三上 忠文 視線 落 在 遠方 ， 緩緩 說道 。 當年 海浪 瞬間 捲起 的 上 百公斤 巨石 群 ， 如今 成為 歷史 印記 ， 化身 步道 景點 。'"
            ],
            "application/vnd.google.colaboratory.intrinsic+json": {
              "type": "string"
            }
          },
          "metadata": {},
          "execution_count": 9
        }
      ]
    },
    {
      "cell_type": "code",
      "source": [
        "import jieba.analyse\n",
        "jieba.analyse.extract_tags(news)"
      ],
      "metadata": {
        "colab": {
          "base_uri": "https://localhost:8080/"
        },
        "id": "6BskUkG-Z3Vy",
        "outputId": "88d19738-7b74-401a-f1cd-40676f45b547"
      },
      "execution_count": 10,
      "outputs": [
        {
          "output_type": "execute_result",
          "data": {
            "text/plain": [
              "['唐桑',\n",
              " '步道',\n",
              " '10',\n",
              " '半島',\n",
              " '氣仙沼',\n",
              " '路線',\n",
              " '觀光',\n",
              " '忠文',\n",
              " '健走',\n",
              " '遠方',\n",
              " '視線',\n",
              " '一會兒',\n",
              " '造訪',\n",
              " '三上',\n",
              " '百公斤',\n",
              " '吸引',\n",
              " '11',\n",
              " '氣溫',\n",
              " '海色',\n",
              " '湛藍']"
            ]
          },
          "metadata": {},
          "execution_count": 10
        }
      ]
    }
  ]
}