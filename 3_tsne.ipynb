{
  "nbformat": 4,
  "nbformat_minor": 0,
  "metadata": {
    "colab": {
      "provenance": [],
      "authorship_tag": "ABX9TyPXrnnUCETCxuGWbftacgSb",
      "include_colab_link": true
    },
    "kernelspec": {
      "name": "python3",
      "display_name": "Python 3"
    },
    "language_info": {
      "name": "python"
    }
  },
  "cells": [
    {
      "cell_type": "markdown",
      "metadata": {
        "id": "view-in-github",
        "colab_type": "text"
      },
      "source": [
        "<a href=\"https://colab.research.google.com/github/Elwing-Chou/kmu1203/blob/main/3_tsne.ipynb\" target=\"_parent\"><img src=\"https://colab.research.google.com/assets/colab-badge.svg\" alt=\"Open In Colab\"/></a>"
      ]
    },
    {
      "cell_type": "code",
      "execution_count": 1,
      "metadata": {
        "colab": {
          "base_uri": "https://localhost:8080/"
        },
        "id": "HPAXpHQRlaVE",
        "outputId": "9edcc5ba-8933-4190-a8ba-9a4b95443fa3"
      },
      "outputs": [
        {
          "output_type": "execute_result",
          "data": {
            "text/plain": [
              "('kidney.csv', <http.client.HTTPMessage at 0x7bc64a3f1540>)"
            ]
          },
          "metadata": {},
          "execution_count": 1
        }
      ],
      "source": [
        "import urllib.request as req\n",
        "url = \"https://github.com/Elwing-Chou/kmu1203/raw/main/kidney_disease.csv\"\n",
        "req.urlretrieve(url, \"kidney.csv\")"
      ]
    },
    {
      "cell_type": "code",
      "source": [
        "import pandas as pd\n",
        "df = pd.read_csv(\"kidney.csv\", encoding=\"utf-8\")\n",
        "df"
      ],
      "metadata": {
        "id": "6cZSTdaasai_"
      },
      "execution_count": null,
      "outputs": []
    },
    {
      "cell_type": "code",
      "source": [
        "# demo: pandas第三件 axis\n",
        "test = pd.DataFrame([\n",
        "    [1, 2],\n",
        "    [3, 4]\n",
        "])\n",
        "test.drop(0, axis=1)"
      ],
      "metadata": {
        "id": "AeL_JQZEsvSm"
      },
      "execution_count": null,
      "outputs": []
    },
    {
      "cell_type": "code",
      "source": [
        "x = df.drop([\"id\", \"classification\"], axis=1)\n",
        "x"
      ],
      "metadata": {
        "id": "nD0Ee9GMtVWe"
      },
      "execution_count": null,
      "outputs": []
    },
    {
      "cell_type": "code",
      "source": [
        "# 前處理1: 對類別作one-hot\n",
        "x_onehot = pd.get_dummies(x)\n",
        "x_onehot"
      ],
      "metadata": {
        "id": "k4tduQEYvLuN"
      },
      "execution_count": null,
      "outputs": []
    },
    {
      "cell_type": "code",
      "source": [
        "# 前處理2: 把空直填好\n",
        "med = x_onehot.median()\n",
        "x_onehot = x_onehot.fillna(med)"
      ],
      "metadata": {
        "id": "RXRhDKpNwmlN"
      },
      "execution_count": 13,
      "outputs": []
    }
  ]
}